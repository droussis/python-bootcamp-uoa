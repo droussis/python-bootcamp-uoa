{
 "cells": [
  {
   "cell_type": "markdown",
   "metadata": {},
   "source": [
    "## Python Bootcamp - University of Athens - Fall 2019\n",
    "### Dimitrios Roussis - Exercise 1\n",
    "In this exercise, we define a function so as to:\n",
    "- Take as input a DNA sequence which has already been read from a .txt file\n",
    "- For each base type, count the number of its occurrences within the sequence, as well as the total number of all base occurrences\n",
    "- Count the errors of form \"-\" within the DNA sequence and make sure that they comprise the only kind of error, by comparing the sum of the total number of bases and errors with the total number of characters within the .txt file (after leaving newline characters out)\n",
    "- Print as output the info about base occurrences and errors"
   ]
  },
  {
   "cell_type": "code",
   "execution_count": 3,
   "metadata": {},
   "outputs": [],
   "source": [
    "# Open, read and close the file\n",
    "\n",
    "dna_string = open('dnastring1.txt')\n",
    "dna_contents = dna_string.read()\n",
    "dna_string.close()"
   ]
  },
  {
   "cell_type": "code",
   "execution_count": 4,
   "metadata": {},
   "outputs": [],
   "source": [
    "def base_info(dna_contents):\n",
    "    \"\"\"\n",
    "    Print the number of base occurrences and errors within a DNA sequence\n",
    "    \"\"\"\n",
    "    \n",
    "    num_A = dna_contents.count('A')\n",
    "    num_G = dna_contents.count('G')\n",
    "    num_T = dna_contents.count('T')\n",
    "    num_C = dna_contents.count('C')\n",
    "    num_errors = dna_contents.count('-')\n",
    "    total_bases = num_A + num_G + num_T + num_C\n",
    "    \n",
    "    # The function \"len(dna_contents)\" will also count newline characters within the file\n",
    "    \n",
    "    total_characters = len(dna_contents)\n",
    "    total_newlines = dna_contents.count('\\n')\n",
    "    \n",
    "    # Check whether there are errors other than \"-\" within the DNA sequence\n",
    "    \n",
    "    if (total_characters - total_newlines) == (total_bases + num_errors):\n",
    "        print('TOTAL BASES: ' + str(total_bases + num_errors) \n",
    "              + ', ERRORS: ' + str(num_errors)\n",
    "              + ', \"A\":' + str(num_A) + ', \"G\":' + str(num_G)\n",
    "              + ', \"T\":' + str(num_T) + ', \"C\":' + str(num_C)\n",
    "             )\n",
    "    else: \n",
    "        print('There are some unrecognizable errors within the DNA sequence')"
   ]
  },
  {
   "cell_type": "code",
   "execution_count": 5,
   "metadata": {},
   "outputs": [
    {
     "name": "stdout",
     "output_type": "stream",
     "text": [
      "TOTAL BASES: 1157, ERRORS: 5, \"A\":314, \"G\":198, \"T\":381, \"C\":259\n"
     ]
    }
   ],
   "source": [
    "base_info(dna_contents)"
   ]
  },
  {
   "cell_type": "code",
   "execution_count": null,
   "metadata": {},
   "outputs": [],
   "source": []
  }
 ],
 "metadata": {
  "kernelspec": {
   "display_name": "Python 3",
   "language": "python",
   "name": "python3"
  },
  "language_info": {
   "codemirror_mode": {
    "name": "ipython",
    "version": 3
   },
   "file_extension": ".py",
   "mimetype": "text/x-python",
   "name": "python",
   "nbconvert_exporter": "python",
   "pygments_lexer": "ipython3",
   "version": "3.7.4"
  }
 },
 "nbformat": 4,
 "nbformat_minor": 2
}
