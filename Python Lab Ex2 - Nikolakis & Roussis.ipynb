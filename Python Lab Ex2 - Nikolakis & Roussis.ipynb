{
 "cells": [
  {
   "cell_type": "markdown",
   "metadata": {},
   "source": [
    "# Python Bootcamp - University of Athens - Fall 2019\n",
    "\n",
    "## Spyros Nikolakis & Dimitrios Roussis - Exercise 2\n",
    "\n",
    "Before presenting the 2 scripts of the 2nd exercise, we define two necessary functions; one is the Recursive implementation of the Edit Distance algorithm and the other one is the Dynamic programming implementation."
   ]
  },
  {
   "cell_type": "code",
   "execution_count": 1,
   "metadata": {},
   "outputs": [],
   "source": [
    "def edit_distance_r(s, t):\n",
    "    \"\"\"\n",
    "    Minimum Edit Distance Algorithm - Recursive implementation: \n",
    "    This function calculates the minimunm cost which is needed in order to\n",
    "    convert string \"s\" to string \"t\". However, it does so recursively and \n",
    "    is very inefficient computationally\n",
    "    \"\"\"\n",
    "    \n",
    "    if s == \"\":\n",
    "        return len(t)\n",
    "    if t == \"\":\n",
    "        return len(s)\n",
    "    if s[-1] == t[-1]:\n",
    "        cost = 0\n",
    "    else:\n",
    "        cost = 1\n",
    "    \n",
    "    res = min([edit_distance_r(s, t[:-1]) + 1,\n",
    "              edit_distance_r(s[:-1], t) + 1,\n",
    "              edit_distance_r(s[:-1], t[:-1]) + cost])\n",
    "    return res"
   ]
  },
  {
   "cell_type": "code",
   "execution_count": 2,
   "metadata": {},
   "outputs": [],
   "source": [
    "import numpy as np\n",
    "\n",
    "def edit_distance_m(s, t):\n",
    "    \"\"\"\n",
    "    Minimum Edit Distance Algorithm - Dynamic Programming implementation:\n",
    "    This function calculates the minimunm cost which is needed in order to\n",
    "    convert string \"s\" to string \"t\". However, it does so in a \n",
    "    computationally efficient manner  as it utilizes numpy arrays \n",
    "    and dynamic programming\n",
    "    \"\"\"\n",
    "    \n",
    "    size_x = len(s) + 1\n",
    "    size_y = len(t) + 1\n",
    "    matrix = np.zeros((size_x, size_y))\n",
    "    \n",
    "    for x in range(size_x):\n",
    "        matrix[x, 0] = x\n",
    "    for y in range(size_y):\n",
    "        matrix[0, y] = y\n",
    "\n",
    "    for x in range(1, size_x):\n",
    "        for y in range(1, size_y):\n",
    "            if s[x-1] == t[y-1]:\n",
    "                matrix[x, y] = min(\n",
    "                    matrix[x-1, y] + 1,\n",
    "                    matrix[x-1, y-1],\n",
    "                    matrix[x, y-1] + 1\n",
    "                )\n",
    "            else:\n",
    "                matrix[x, y] = min(\n",
    "                    matrix[x-1, y] + 1,\n",
    "                    matrix[x-1, y-1] + 1,\n",
    "                    matrix[x, y-1] + 1\n",
    "                )\n",
    "    return (matrix[size_x - 1, size_y - 1])"
   ]
  },
  {
   "cell_type": "markdown",
   "metadata": {},
   "source": [
    "## Script 1 - Top 10 Similar Pairs\n",
    "\n",
    "This is the first part of exercise 2, in which we read two files (dnalist1.txt & dnalist2.txt), calculate the similarity scores for every line d1 of the first and every line d2 of the second and print those scores in descending order."
   ]
  },
  {
   "cell_type": "code",
   "execution_count": 3,
   "metadata": {},
   "outputs": [
    {
     "name": "stdout",
     "output_type": "stream",
     "text": [
      "Reference Line: 55, Sequence Line: 76, Similarity: 62.0%\n",
      "Reference Line: 29, Sequence Line: 5, Similarity: 60.0%\n",
      "Reference Line: 92, Sequence Line: 53, Similarity: 60.0%\n",
      "Reference Line: 11, Sequence Line: 83, Similarity: 58.0%\n",
      "Reference Line: 13, Sequence Line: 6, Similarity: 58.0%\n",
      "Reference Line: 85, Sequence Line: 83, Similarity: 58.0%\n",
      "Reference Line: 5, Sequence Line: 100, Similarity: 56.0%\n",
      "Reference Line: 11, Sequence Line: 66, Similarity: 56.0%\n",
      "Reference Line: 16, Sequence Line: 27, Similarity: 56.0%\n",
      "Reference Line: 20, Sequence Line: 48, Similarity: 56.0%\n"
     ]
    }
   ],
   "source": [
    "# Read files and store in memory\n",
    "file1 = open('dnalist1.txt')\n",
    "\n",
    "file1_contents = []\n",
    "for line in file1:\n",
    "    file1_contents.append(line.rstrip(\"\\n\"))\n",
    "    \n",
    "file1.close()\n",
    "\n",
    "file2 = open('dnalist2.txt')\n",
    "\n",
    "file2_contents = []\n",
    "for line in file2:\n",
    "    file2_contents.append(line.rstrip(\"\\n\"))\n",
    "\n",
    "file2.close()\n",
    "\n",
    "# Calculate distances, percentages and generate tuples to store the info\n",
    "distances_percentage_couples = []\n",
    "line1_id = 0\n",
    "for line1 in file1_contents:\n",
    "    line1_id += 1\n",
    "    line2_id = 0\n",
    "    for line2 in file2_contents:            \n",
    "        line2_id += 1\n",
    "        line_length = len(line2)\n",
    "        # Calculate percentage: ((line_length - distance) / line_length) * 100\n",
    "        distance_percentage = (int(line_length - edit_distance_m(line1, line2)) / line_length) * 100\n",
    "        distances_percentage_couples.append((line1_id, line2_id, distance_percentage))    \n",
    "\n",
    "distances_percentage_couples.sort(key=lambda x: x[2], reverse = True) # Sort results in descending order\n",
    "\n",
    "limit = 10 # Print top 10 results\n",
    "counter = 0\n",
    "for distance_couple in distances_percentage_couples:\n",
    "    if counter == limit:\n",
    "        break\n",
    "    # Limit every similarity score to 1 decimal point    \n",
    "    print('Reference Line: ' + str(distance_couple[0]) \n",
    "          + ', Sequence Line: ' + str(distance_couple[1]) \n",
    "          + ', Similarity: %.1f' % distance_couple[2] + '%')\n",
    "    counter += 1"
   ]
  },
  {
   "cell_type": "markdown",
   "metadata": {},
   "source": [
    "## Script 2 - Comparison of the Edit Distance algorithms\n",
    "\n",
    "This is the second part of exercise 2. We start by defining the two functions which we will use below. For more information about each one, please refer to its documentation."
   ]
  },
  {
   "cell_type": "code",
   "execution_count": 4,
   "metadata": {},
   "outputs": [],
   "source": [
    "import random\n",
    "\n",
    "def dna_sequence_generator(num, length, name):\n",
    "    \"\"\"\n",
    "    Creates an output file \"name.txt\" (defined by user) which contains\n",
    "    a random DNA sequence (made of bases A, T, G & C) which spans vertically\n",
    "    across the number of lines defined by user (num) and in each line,\n",
    "    horizontally across the line length -or size- defined by user (length)\n",
    "    \"\"\"\n",
    "    \n",
    "    line_num = num\n",
    "    line_length = length\n",
    "    filename = name\n",
    "    chars = ['A', 'T', 'G', 'C']\n",
    "    g = open(filename, 'w')\n",
    "    for line in range(line_num):\n",
    "        random_line = ''\n",
    "        for c in range(line_length):\n",
    "            random_letter = random.choice(chars)\n",
    "            random_line += random_letter\n",
    "        random_line += '\\n'\n",
    "        g.write(random_line)\n",
    "    g.close()"
   ]
  },
  {
   "cell_type": "code",
   "execution_count": 5,
   "metadata": {},
   "outputs": [],
   "source": [
    "import time\n",
    "\n",
    "def extract_and_time_edit_dist(name_1, name_2, method):\n",
    "    \"\"\"\n",
    "    This function takes the names of two files as input, opens them and calculates the time\n",
    "    of execution of the Edit Distance Algorithm between each line (line_1) of file 1 (name_1) \n",
    "    and each line (line_2) of file 2 (name_2). The method which is used is specified by the user:\n",
    "    \"dyn\" for Dynamic Programming and \"rec\" for the Recursive implementation. \n",
    "    Otherwise, the algorithm stops and an error is raised\n",
    "    \"\"\"\n",
    "    file_1 = open(name_1, 'r')\n",
    "    file_2 = open(name_2, 'r')\n",
    "    \n",
    "    start = time.time()\n",
    "    for line_1 in file_1:\n",
    "        for line_2 in file_2:\n",
    "            start = time.time()\n",
    "            if method == 'dyn':\n",
    "                edit_distance_m(line_1, line_2)\n",
    "            elif method == 'rec':\n",
    "                edit_distance_r(line_1, line_2)\n",
    "            else:\n",
    "                try:\n",
    "                    raise KeyboardInterrupt\n",
    "                finally: \n",
    "                    print('Error: Set method to \"rec\" for Recursive or \"dyn\" for Dynamic programming')\n",
    "            \n",
    "    end = time.time()\n",
    "    \n",
    "    elapsed_time = end - start\n",
    "    file_1.close()\n",
    "    file_2.close()\n",
    "    return elapsed_time"
   ]
  },
  {
   "cell_type": "markdown",
   "metadata": {},
   "source": [
    "At this point, we are going to make use of the functions we defined above, by choosing the arguments which have been specified by the instructors of the Python Bootcamp. More specifically:\n",
    "- In order to test the execution time of the *Recursive implementation of the Edit Distance algorithm*, we generate two .txt files with **two lines** of random DNA strings, which have a **varying length/size of 1 up to 10**. Then we extract all the lines from the files and calculate the elapsed time as the time that the Edit Distance algorithm takes to execute **between each line of file 1 and each line of file 2 (4 times for each line length)**. We then save these into a list.\n",
    "- We do the same for the *Dynamic programming implementation of the Edit Distance algorithm*, although we **change the variability in the length/size of the DNA string to a range of 1 up to 20**."
   ]
  },
  {
   "cell_type": "code",
   "execution_count": 6,
   "metadata": {},
   "outputs": [],
   "source": [
    "recursive_times = []\n",
    "dynamic_times = []\n",
    "\n",
    "# Generate 2 lines of random DNA strings with a size changing from 1 to 10 (for all lines)\n",
    "for i in range(1, 11):\n",
    "    dna_sequence_generator(2, i, 'file1.txt')\n",
    "    dna_sequence_generator(2, i, 'file2.txt')\n",
    "    elapsed_time = extract_and_time_edit_dist('file1.txt', 'file2.txt', 'rec') # Time Recursive Algorithm\n",
    "    recursive_times.append(elapsed_time)\n",
    "    \n",
    "# Generate 2 lines of random DNA strings with a size changing from 1 to 20 (for all lines)\n",
    "for i in range(1, 21):\n",
    "    dna_sequence_generator(2, i, 'file1.txt')\n",
    "    dna_sequence_generator(2, i, 'file2.txt')\n",
    "    elapsed_time = extract_and_time_edit_dist('file1.txt', 'file2.txt', 'dyn') # Time Dynamic Algorithm\n",
    "    dynamic_times.append(elapsed_time)"
   ]
  },
  {
   "cell_type": "code",
   "execution_count": 7,
   "metadata": {},
   "outputs": [
    {
     "data": {
      "image/png": "[encoded data removed]",
      "text/plain": [
       "<Figure size 432x288 with 1 Axes>"
      ]
     },
     "metadata": {
      "needs_background": "light"
     },
     "output_type": "display_data"
    }
   ],
   "source": [
    "from matplotlib import pyplot as plt\n",
    "%matplotlib inline\n",
    "\n",
    "plt.plot(recursive_times, color='blue', marker='o', linestyle='solid', label='Recursive') \n",
    "plt.plot(dynamic_times, color='red', marker='x', linestyle='solid', label='Dynamic') \n",
    "plt.title('Edit Distance performance')\n",
    "plt.legend()\n",
    "plt.ylabel('Execution time (sec)')\n",
    "plt.xlabel('Line length (chars)')\n",
    "plt.show()"
   ]
  },
  {
   "cell_type": "markdown",
   "metadata": {},
   "source": [
    "From the figure above, we can see that *there could be* a linear relation between the length of the lines and the execution time of the Edit Distance algorithm with Dynamic Programming (see Bonus script for relation between the number of the lines and the execution time); however, it is so much more computationally efficient than the Recursive implementation that any increase in its execution time **is not visible at this scale**.\n",
    "\n",
    "On the contrary, the execution time of the Recursive implementation of the Edit Distance algorithm **clearly exhibits an exponential increase as the length of the lines increases**. To further validate this, we use a logarithmic scale for the execution time (y-axis) in the figure below. We expect to see a large steepness exhibited by the Recursive implementation line, with every point belonging to a different scale."
   ]
  },
  {
   "cell_type": "code",
   "execution_count": 8,
   "metadata": {},
   "outputs": [
    {
     "data": {
      "image/png": "[encoded data removed]",
      "text/plain": [
       "<Figure size 432x288 with 1 Axes>"
      ]
     },
     "metadata": {
      "needs_background": "light"
     },
     "output_type": "display_data"
    }
   ],
   "source": [
    "plt.plot(recursive_times, color='blue', marker='o', linestyle='solid', label='Recursive') \n",
    "plt.plot(dynamic_times, color='red', marker='x', linestyle='solid', label='Dynamic') \n",
    "plt.title('Edit Distance performance (Logarithmic Scale)')\n",
    "plt.legend()\n",
    "plt.ylabel('Execution time (sec)')\n",
    "plt.xlabel('Line length (chars)')\n",
    "plt.yscale('log')\n",
    "plt.show()"
   ]
  },
  {
   "cell_type": "markdown",
   "metadata": {},
   "source": [
    "In the second figure, we do see that, for the Recursive implementation, each **singular increase in line length** increases the time of execution by -a little bit less than- **an order of magnitude**. Moreover, we can see that the execution time of the Dynamic implementation also increases; all of the points in the plot, however, **belong within two orders of magnitude**."
   ]
  },
  {
   "cell_type": "markdown",
   "metadata": {},
   "source": [
    "## Bonus Script - Behavior of the Dynamic programming implementation\n",
    "**IMPORTANT:** Part of this script was originally written for the first version of Exercise 2; however there are some notable changes. Its execution takes around 10 seconds.\n",
    "\n",
    "At this point, we test the Edit Distance algorithm (Dynamic Programming) once more; this time, though, we want to calculate the time of executing the algorithm for files containing a **number of lines** (spanning vertically) **equal to a specific power of 10** (num = 1, 10, 100, 1000, 10000, 100000). The execution time is measured **between each line of each file with each line of every other file**.\n",
    "\n",
    "The resulting visualizations will hopefully give us useful insights about the rate of increase in execution times of the Dynamic Programming implementation of the Edit Distance Algorithm. "
   ]
  },
  {
   "cell_type": "code",
   "execution_count": 9,
   "metadata": {},
   "outputs": [],
   "source": [
    "from math import log10\n",
    "\n",
    "dna_lines_range = [10 ** j for j in range(0, 6)] # 10e0 = 1 up to 10e5 = 100000\n",
    "dynamic_times_nest = []\n",
    "index = 0 \n",
    "dynamic_times = []\n",
    "#dynamic_times_nest.append([]) # Here we use a nested list\n",
    "for j in dna_lines_range: # For a number of lines equal to different powers of 10\n",
    "    dna_sequence_generator(j, 1, 'no_of_strings_10e{0}.txt'.format(int(log10(j))))\n",
    "    elapsed_time_sum = 0\n",
    "    for k in dna_lines_range:\n",
    "        dna_sequence_generator(k, 1, 'no_of_strings_10e{0}.txt'.format(int(log10(k))))\n",
    "        elapsed_time = extract_and_time_edit_dist('no_of_strings_10e{0}.txt'.format(int(log10(j))),\n",
    "                                                  'no_of_strings_10e{0}.txt'.format(int(log10(k))),\n",
    "                                                  'dyn') # Time Dynamic Algorithm\n",
    "        elapsed_time_sum += elapsed_time\n",
    "    #dynamic_times_nest[index].append(elapsed_time)\n",
    "    dynamic_times.append(elapsed_time_sum)\n",
    "    index += 1 # We use k as index for the nested list, as j does not take sequential values"
   ]
  },
  {
   "cell_type": "code",
   "execution_count": 10,
   "metadata": {},
   "outputs": [
    {
     "data": {
      "image/png": "[encoded data removed]",
      "text/plain": [
       "<Figure size 432x288 with 1 Axes>"
      ]
     },
     "metadata": {
      "needs_background": "light"
     },
     "output_type": "display_data"
    }
   ],
   "source": [
    "from matplotlib import pyplot as plt\n",
    "%matplotlib inline \n",
    "\n",
    "x = dna_lines_range\n",
    "y = dynamic_times\n",
    "plt.plot(x, y, marker='.', linestyle='solid')\n",
    "plt.title('Edit Distance performance for different no. of lines')\n",
    "plt.xlabel('No. of strings (lines)')\n",
    "plt.ylabel('Execution time (sec)')\n",
    "plt.show()"
   ]
  },
  {
   "cell_type": "markdown",
   "metadata": {},
   "source": [
    "In the figure above, we can clearly see that the execution time of the Dynamic implementation of the Edit Distance algorithm increases **proportionally** with the number of lines that the file has. This is no surprise at all; however, it is useful to note that **the number of lines increase by an order of magnitude** for such an effect to take place. \n",
    "\n",
    "In order to better visualize the results, so that all the points are visible, we set the y-axis (No. of lines) in logarithmic scale."
   ]
  },
  {
   "cell_type": "code",
   "execution_count": 11,
   "metadata": {
    "scrolled": true
   },
   "outputs": [
    {
     "data": {
      "image/png": "[encoded data removed]",
      "text/plain": [
       "<Figure size 432x288 with 1 Axes>"
      ]
     },
     "metadata": {
      "needs_background": "light"
     },
     "output_type": "display_data"
    }
   ],
   "source": [
    "x = dna_lines_range\n",
    "y = dynamic_times\n",
    "plt.plot(x, y, marker='.', linestyle='solid')\n",
    "plt.title('Edit Distance performance for different no. of lines (Logarithmic Scale)')\n",
    "plt.xlabel('No. of strings (lines)')\n",
    "plt.ylabel('Execution time (sec)')\n",
    "plt.yscale('log')\n",
    "plt.show()"
   ]
  },
  {
   "cell_type": "markdown",
   "metadata": {},
   "source": [
    "What the figure above demonstrates, is that for **the first two powers of 10** (10e0 = 1 & 10e1 = 10), the execution time is **essentially the same**. Afterwards, each increase of **one order of magnitude** in the number of lines within a file, corresponds -roughly- to an increase of **one order of magnitude** in the execution time as well. Thus, we can fairly conclude that the Dynamic programming implementation of the Edit Distance algorithm, **behaves linearly after a certain point**."
   ]
  }
 ],
 "metadata": {
  "kernelspec": {
   "display_name": "Python 3",
   "language": "python",
   "name": "python3"
  },
  "language_info": {
   "codemirror_mode": {
    "name": "ipython",
    "version": 3
   },
   "file_extension": ".py",
   "mimetype": "text/x-python",
   "name": "python",
   "nbconvert_exporter": "python",
   "pygments_lexer": "ipython3",
   "version": "3.7.4"
  }
 },
 "nbformat": 4,
 "nbformat_minor": 2
}
